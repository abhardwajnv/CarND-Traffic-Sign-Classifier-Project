{
 "cells": [
  {
   "cell_type": "markdown",
   "metadata": {
    "deletable": true,
    "editable": true
   },
   "source": [
    "# Self-Driving Car Engineer Nanodegree\n",
    "\n",
    "## Deep Learning\n",
    "\n",
    "## Project: Build a Traffic Sign Recognition Classifier\n",
    "\n",
    "In this notebook, a template is provided for you to implement your functionality in stages, which is required to successfully complete this project. If additional code is required that cannot be included in the notebook, be sure that the Python code is successfully imported and included in your submission if necessary. \n",
    "\n",
    "> **Note**: Once you have completed all of the code implementations, you need to finalize your work by exporting the iPython Notebook as an HTML document. Before exporting the notebook to html, all of the code cells need to have been run so that reviewers can see the final implementation and output. You can then export the notebook by using the menu above and navigating to  \\n\",\n",
    "    \"**File -> Download as -> HTML (.html)**. Include the finished document along with this notebook as your submission. \n",
    "\n",
    "In addition to implementing code, there is a writeup to complete. The writeup should be completed in a separate file, which can be either a markdown file or a pdf document. There is a [write up template](https://github.com/udacity/CarND-Traffic-Sign-Classifier-Project/blob/master/writeup_template.md) that can be used to guide the writing process. Completing the code template and writeup template will cover all of the [rubric points](https://review.udacity.com/#!/rubrics/481/view) for this project.\n",
    "\n",
    "The [rubric](https://review.udacity.com/#!/rubrics/481/view) contains \"Stand Out Suggestions\" for enhancing the project beyond the minimum requirements. The stand out suggestions are optional. If you decide to pursue the \"stand out suggestions\", you can include the code in this Ipython notebook and also discuss the results in the writeup file.\n",
    "\n",
    "\n",
    ">**Note:** Code and Markdown cells can be executed using the **Shift + Enter** keyboard shortcut. In addition, Markdown cells can be edited by typically double-clicking the cell to enter edit mode."
   ]
  },
  {
   "cell_type": "markdown",
   "metadata": {
    "deletable": true,
    "editable": true
   },
   "source": [
    "---\n",
    "## Step 0: Load The Data"
   ]
  },
  {
   "cell_type": "code",
   "execution_count": 1,
   "metadata": {
    "collapsed": false,
    "deletable": true,
    "editable": true
   },
   "outputs": [
    {
     "name": "stdout",
     "output_type": "stream",
     "text": [
      "X_train shape: (34799, 32, 32, 3)\n",
      "y_train shape: (34799,)\n",
      "X_valid shape: (4410, 32, 32, 3)\n",
      "y_valid shape: (4410,)\n",
      "X_test shape: (12630, 32, 32, 3)\n",
      "y_test shape: (12630,)\n"
     ]
    }
   ],
   "source": [
    "# Load pickled data\n",
    "import pickle\n",
    "\n",
    "# TODO: Fill this in based on where you saved the training and testing data\n",
    "\n",
    "training_file = \"./datasets/train.p\"\n",
    "validation_file = \"./datasets/valid.p\"\n",
    "testing_file = \"./datasets/test.p\"\n",
    "\n",
    "with open(training_file, mode='rb') as f:\n",
    "    train = pickle.load(f)\n",
    "with open(validation_file, mode='rb') as f:\n",
    "    valid = pickle.load(f)\n",
    "with open(testing_file, mode='rb') as f:\n",
    "    test = pickle.load(f)\n",
    "    \n",
    "X_train, y_train = train['features'], train['labels']\n",
    "X_valid, y_valid = valid['features'], valid['labels']\n",
    "X_test, y_test = test['features'], test['labels']\n",
    "\n",
    "print(\"X_train shape:\", X_train.shape)\n",
    "print(\"y_train shape:\", y_train.shape)\n",
    "print(\"X_valid shape:\", X_valid.shape)\n",
    "print(\"y_valid shape:\", y_valid.shape)\n",
    "print(\"X_test shape:\", X_test.shape)\n",
    "print(\"y_test shape:\", y_test.shape)"
   ]
  },
  {
   "cell_type": "markdown",
   "metadata": {
    "deletable": true,
    "editable": true
   },
   "source": [
    "---\n",
    "\n",
    "## Step 1: Dataset Summary & Exploration\n",
    "\n",
    "The pickled data is a dictionary with 4 key/value pairs:\n",
    "\n",
    "- `'features'` is a 4D array containing raw pixel data of the traffic sign images, (num examples, width, height, channels).\n",
    "- `'labels'` is a 1D array containing the label/class id of the traffic sign. The file `signnames.csv` contains id -> name mappings for each id.\n",
    "- `'sizes'` is a list containing tuples, (width, height) representing the original width and height the image.\n",
    "- `'coords'` is a list containing tuples, (x1, y1, x2, y2) representing coordinates of a bounding box around the sign in the image. **THESE COORDINATES ASSUME THE ORIGINAL IMAGE. THE PICKLED DATA CONTAINS RESIZED VERSIONS (32 by 32) OF THESE IMAGES**\n",
    "\n",
    "Complete the basic data summary below. Use python, numpy and/or pandas methods to calculate the data summary rather than hard coding the results. For example, the [pandas shape method](http://pandas.pydata.org/pandas-docs/stable/generated/pandas.DataFrame.shape.html) might be useful for calculating some of the summary results. "
   ]
  },
  {
   "cell_type": "markdown",
   "metadata": {
    "deletable": true,
    "editable": true
   },
   "source": [
    "### Provide a Basic Summary of the Data Set Using Python, Numpy and/or Pandas"
   ]
  },
  {
   "cell_type": "code",
   "execution_count": 2,
   "metadata": {
    "collapsed": false,
    "deletable": true,
    "editable": true
   },
   "outputs": [
    {
     "name": "stdout",
     "output_type": "stream",
     "text": [
      "Number of training examples = 34799\n",
      "Number of testing examples = 12630\n",
      "Image data shape = (32, 32, 3)\n",
      "Number of classes = 43\n"
     ]
    }
   ],
   "source": [
    "### Replace each question mark with the appropriate value. \n",
    "### Use python, pandas or numpy methods rather than hard coding the results\n",
    "import numpy as np\n",
    "\n",
    "# TODO: Number of training examples\n",
    "n_train = len(X_train)\n",
    "\n",
    "# TODO: Number of testing examples.\n",
    "n_test = len(X_test)\n",
    "\n",
    "# TODO: What's the shape of an traffic sign image?\n",
    "image_shape = X_train[0].shape\n",
    "\n",
    "# TODO: How many unique classes/labels there are in the dataset.\n",
    "n_classes = len(np.unique(y_train))\n",
    "\n",
    "print(\"Number of training examples =\", n_train)\n",
    "print(\"Number of testing examples =\", n_test)\n",
    "print(\"Image data shape =\", image_shape)\n",
    "print(\"Number of classes =\", n_classes)"
   ]
  },
  {
   "cell_type": "markdown",
   "metadata": {
    "deletable": true,
    "editable": true
   },
   "source": [
    "### Include an exploratory visualization of the dataset"
   ]
  },
  {
   "cell_type": "markdown",
   "metadata": {
    "deletable": true,
    "editable": true
   },
   "source": [
    "Visualize the German Traffic Signs Dataset using the pickled file(s). This is open ended, suggestions include: plotting traffic sign images, plotting the count of each sign, etc.\n",
    "\n",
    "The [Matplotlib](http://matplotlib.org/) [examples](http://matplotlib.org/examples/index.html) and [gallery](http://matplotlib.org/gallery.html) pages are a great resource for doing visualizations in Python.\n",
    "\n",
    "**NOTE:** It's recommended you start with something simple first. If you wish to do more, come back to it after you've completed the rest of the sections."
   ]
  },
  {
   "cell_type": "code",
   "execution_count": 3,
   "metadata": {
    "collapsed": false,
    "deletable": true,
    "editable": true,
    "scrolled": true
   },
   "outputs": [],
   "source": [
    "### Data exploration visualization code goes here.\n",
    "### Feel free to use as many code cells as needed.\n",
    "import matplotlib.pyplot as plt\n",
    "# Visualizations will be shown in the notebook.\n",
    "%matplotlib inline\n",
    "import random"
   ]
  },
  {
   "cell_type": "code",
   "execution_count": 4,
   "metadata": {
    "collapsed": false,
    "deletable": true,
    "editable": true
   },
   "outputs": [
    {
     "data": {
      "image/png": "[encoded data removed]",
      "text/plain": [
       "<matplotlib.figure.Figure at 0x7f5cb7b1dc88>"
      ]
     },
     "metadata": {},
     "output_type": "display_data"
    }
   ],
   "source": [
    "# Plotting Traffic Sign Image for 10 random data points\n",
    "count = 10\n",
    "img, vaxis = plt.subplots(2,5, figsize=(15, 5))\n",
    "vaxis = vaxis.ravel()\n",
    "for i in range(count):\n",
    "    index = random.randint(0, len(X_train))\n",
    "    image = X_train[index]\n",
    "    vaxis[i].imshow(image)\n",
    "    vaxis[i].axis('off')\n",
    "    vaxis[i].set_title(y_train[index])"
   ]
  },
  {
   "cell_type": "code",
   "execution_count": 5,
   "metadata": {
    "collapsed": false,
    "deletable": true,
    "editable": true
   },
   "outputs": [
    {
     "data": {
      "image/png": "[encoded data removed]",
      "text/plain": [
       "<matplotlib.figure.Figure at 0x7f5cb79b5ba8>"
      ]
     },
     "metadata": {},
     "output_type": "display_data"
    }
   ],
   "source": [
    "# Plotting the count of each sign (Histogram)\n",
    "plt.figure(figsize=(15,5))\n",
    "plt.hist(y_train,n_classes,alpha=0.4)\n",
    "#plt.hist(y_valid,n_classes,alpha=0.7)\n",
    "plt.hist(y_test,n_classes,alpha=0.5)\n",
    "plt.xlabel(\"Traffic sign ID's\")\n",
    "plt.ylabel(\"Count\")\n",
    "plt.title(\"Frequency of Data Points\")\n",
    "plt.show()"
   ]
  },
  {
   "cell_type": "markdown",
   "metadata": {
    "deletable": true,
    "editable": true
   },
   "source": [
    "----\n",
    "\n",
    "## Step 2: Design and Test a Model Architecture\n",
    "\n",
    "Design and implement a deep learning model that learns to recognize traffic signs. Train and test your model on the [German Traffic Sign Dataset](http://benchmark.ini.rub.de/?section=gtsrb&subsection=dataset).\n",
    "\n",
    "The LeNet-5 implementation shown in the [classroom](https://classroom.udacity.com/nanodegrees/nd013/parts/fbf77062-5703-404e-b60c-95b78b2f3f9e/modules/6df7ae49-c61c-4bb2-a23e-6527e69209ec/lessons/601ae704-1035-4287-8b11-e2c2716217ad/concepts/d4aca031-508f-4e0b-b493-e7b706120f81) at the end of the CNN lesson is a solid starting point. You'll have to change the number of classes and possibly the preprocessing, but aside from that it's plug and play! \n",
    "\n",
    "With the LeNet-5 solution from the lecture, you should expect a validation set accuracy of about 0.89. To meet specifications, the validation set accuracy will need to be at least 0.93. It is possible to get an even higher accuracy, but 0.93 is the minimum for a successful project submission. \n",
    "\n",
    "There are various aspects to consider when thinking about this problem:\n",
    "\n",
    "- Neural network architecture (is the network over or underfitting?)\n",
    "- Play around preprocessing techniques (normalization, rgb to grayscale, etc)\n",
    "- Number of examples per label (some have more than others).\n",
    "- Generate fake data.\n",
    "\n",
    "Here is an example of a [published baseline model on this problem](http://yann.lecun.com/exdb/publis/pdf/sermanet-ijcnn-11.pdf). It's not required to be familiar with the approach used in the paper but, it's good practice to try to read papers like these."
   ]
  },
  {
   "cell_type": "markdown",
   "metadata": {
    "deletable": true,
    "editable": true
   },
   "source": [
    "### Pre-process the Data Set (normalization, grayscale, etc.)"
   ]
  },
  {
   "cell_type": "markdown",
   "metadata": {
    "deletable": true,
    "editable": true
   },
   "source": [
    "Use the code cell (or multiple code cells, if necessary) to implement the first step of your project."
   ]
  },
  {
   "cell_type": "code",
   "execution_count": 6,
   "metadata": {
    "collapsed": false,
    "deletable": true,
    "editable": true
   },
   "outputs": [],
   "source": [
    "### Preprocess the data here. Preprocessing steps could include normalization, converting to grayscale, etc.\n",
    "### Feel free to use as many code cells as needed.\n",
    "from sklearn.utils import shuffle\n",
    "\n",
    "# Shuffling the dataset\n",
    "X_train, y_train = shuffle(X_train, y_train)\n",
    "X_valid, y_valid = shuffle(X_valid, y_valid)\n",
    "X_test, y_test = shuffle(X_test, y_test)"
   ]
  },
  {
   "cell_type": "code",
   "execution_count": 7,
   "metadata": {
    "collapsed": false,
    "deletable": true,
    "editable": true
   },
   "outputs": [
    {
     "name": "stdout",
     "output_type": "stream",
     "text": [
      "X_train Shape (34799, 32, 32, 3)\n",
      "Normalized X_train Shape (34799, 32, 32, 1)\n",
      "Training Dataset Mean: 0.356995258115\n",
      "Validation Dataset Mean: 0.359618466831\n",
      "Test Dataset Mean: 0.354988184159\n"
     ]
    },
    {
     "data": {
      "image/png": "[encoded data removed]",
      "text/plain": [
       "<matplotlib.figure.Figure at 0x7f5cb520ce10>"
      ]
     },
     "metadata": {},
     "output_type": "display_data"
    }
   ],
   "source": [
    "import cv2\n",
    "\n",
    "X_train_norm = []\n",
    "X_valid_norm = []\n",
    "X_test_norm = []\n",
    "a = 0.1\n",
    "b = 0.9\n",
    "x_min = 0\n",
    "x_max = 255\n",
    "\n",
    "def grayscale_normalize(image):\n",
    "    img_gray = cv2.cvtColor(image, cv2.COLOR_RGB2GRAY) # converting RGB image to GrayScale \n",
    "    img_norm = a + (( img_gray - x_min ) * ( b - a ) / ( x_max - x_min )) # Normalizing the GrayScale image\n",
    "    return img_norm\n",
    "\n",
    "# Perform Grayscale & Normalize operations on Training Dataset.\n",
    "for i in range(len(X_train)):\n",
    "    img = grayscale_normalize(X_train[i])\n",
    "    X_train_norm.append(img)\n",
    "    \n",
    "X_train_norm = np.array(X_train_norm)\n",
    "X_train_norm = np.expand_dims(X_train_norm, axis=3)\n",
    "\n",
    "print(\"X_train Shape\", X_train.shape)\n",
    "print(\"Normalized X_train Shape\", X_train_norm.shape)\n",
    "\n",
    "# Perform Grayscale & Normalize operations on Validation Dataset.\n",
    "for i in range (len(X_valid)):\n",
    "    img = grayscale_normalize(X_valid[i])\n",
    "    X_valid_norm.append(img)\n",
    "    \n",
    "X_valid_norm = np.array(X_valid_norm)\n",
    "X_valid_norm = np.expand_dims(X_valid_norm, axis=3)\n",
    "\n",
    "# Perform Grayscale & Normalize operations on Testing Dataset.\n",
    "for i in range (len(X_test)):\n",
    "    img = grayscale_normalize(X_test[i])\n",
    "    X_test_norm.append(img)\n",
    "\n",
    "X_test_norm = np.array(X_test_norm)\n",
    "X_test_norm = np.expand_dims(X_test_norm, axis=3)\n",
    "\n",
    "# Printing Mean of Dataset.\n",
    "print(\"Training Dataset Mean:\", np.mean(X_train_norm))\n",
    "print(\"Validation Dataset Mean:\", np.mean(X_valid_norm))\n",
    "print(\"Test Dataset Mean:\", np.mean(X_test_norm))\n",
    "\n",
    "# Plotting Random Images from Nomarlized-Grayscale Training Dataset\n",
    "count = 20\n",
    "img, vaxis = plt.subplots(5,4, figsize=(15,10))\n",
    "vaxis = vaxis.ravel()\n",
    "for i in range(0,count,2):\n",
    "    index = random.randint(0, len(X_train))\n",
    "    vaxis[i].imshow(X_train[index].squeeze())\n",
    "    vaxis[i].axis('off')\n",
    "    vaxis[i].set_title(y_train[index])\n",
    "    vaxis[i+1].imshow(X_train_norm[index].squeeze(), cmap='gray')\n",
    "    vaxis[i+1].axis('off')\n",
    "    vaxis[i+1].set_title(y_train[index])\n",
    "plt.show()"
   ]
  },
  {
   "cell_type": "markdown",
   "metadata": {
    "deletable": true,
    "editable": true
   },
   "source": [
    "### Image Augumentation"
   ]
  },
  {
   "cell_type": "code",
   "execution_count": 8,
   "metadata": {
    "collapsed": false,
    "deletable": true,
    "editable": true
   },
   "outputs": [
    {
     "data": {
      "image/png": "[encoded data removed]",
      "text/plain": [
       "<matplotlib.figure.Figure at 0x7f5cb51fe400>"
      ]
     },
     "metadata": {},
     "output_type": "display_data"
    },
    {
     "name": "stdout",
     "output_type": "stream",
     "text": [
      "Input Image Shape : (32, 32, 1)  Translated image shape (32, 32, 1)\n"
     ]
    }
   ],
   "source": [
    "# Image Transalate \n",
    "import cv2\n",
    "\n",
    "def img_translate(img):\n",
    "    w,h,_ = img.shape\n",
    "    \n",
    "    # allow translation up to px pixels in x and y directions\n",
    "    px = 2\n",
    "    x, y = np.random.randint(-px,px,2)\n",
    "    M = np.float32([[1,0,x],[0,1,y]])\n",
    "    dest = cv2.warpAffine(img,M,(h,w))\n",
    "    dest = dest[:,:,np.newaxis]\n",
    "    return dest\n",
    "\n",
    "# Plot Image. Original Vs Translate\n",
    "\n",
    "img_test = X_train_norm[600]\n",
    "dest_test = img_translate(img_test)\n",
    "img1, vaxis = plt.subplots(1,2, figsize=(10, 3))\n",
    "vaxis[0].imshow(img_test.squeeze(), cmap='gray')\n",
    "vaxis[0].axis('off')\n",
    "vaxis[0].set_title('Original')\n",
    "vaxis[1].imshow(dest_test.squeeze(), cmap='gray')\n",
    "vaxis[1].axis('off')\n",
    "vaxis[1].set_title('Translated')\n",
    "plt.show()\n",
    "print(\"Input Image Shape :\", img_test.shape, \" Translated image shape\", dest_test.shape)"
   ]
  },
  {
   "cell_type": "code",
   "execution_count": 9,
   "metadata": {
    "collapsed": false,
    "deletable": true,
    "editable": true
   },
   "outputs": [
    {
     "data": {
      "image/png": "[encoded data removed]",
      "text/plain": [
       "<matplotlib.figure.Figure at 0x7f5cacabc668>"
      ]
     },
     "metadata": {},
     "output_type": "display_data"
    },
    {
     "name": "stdout",
     "output_type": "stream",
     "text": [
      "Input Image Shape : (32, 32, 1)  Output Scaled image Shape  (32, 32, 1)\n"
     ]
    }
   ],
   "source": [
    "# Image Scaling\n",
    "def img_scaling(img):   \n",
    "    w,h,_ = img.shape\n",
    "    \n",
    "    # Transform the limit\n",
    "    px = np.random.randint(-2,2)\n",
    "    # End locations of Image\n",
    "    pts1 = np.float32([[px, px],[w-px, px],[px, h-px],[w-px, h-px]])\n",
    "    # Starting locations of image \n",
    "    pts2 = np.float32([[0,0], [w,0], [0, h], [w, h]])\n",
    "    M = cv2.getPerspectiveTransform(pts1,pts2)\n",
    "    dest = cv2.warpPerspective(img,M,(w, h))\n",
    "    dest = dest[:,:,np.newaxis]\n",
    "    return dest\n",
    "\n",
    "#Plot Image. Original Vs Scaled\n",
    "dest_test = img_scaling(img_test)    \n",
    "img1, vaxis = plt.subplots(1,2, figsize=(10, 3))\n",
    "vaxis[0].imshow(img_test.squeeze(), cmap='gray')\n",
    "vaxis[0].axis('off')\n",
    "vaxis[0].set_title('Original Image')\n",
    "vaxis[1].imshow(dest_test.squeeze(), cmap='gray')\n",
    "vaxis[1].axis('off')\n",
    "vaxis[1].set_title('Scaled Image')\n",
    "plt.show()\n",
    "print(\"Input Image Shape :\", img_test.shape, \" Output Scaled image Shape \", dest_test.shape)"
   ]
  },
  {
   "cell_type": "code",
   "execution_count": 10,
   "metadata": {
    "collapsed": false,
    "deletable": true,
    "editable": true
   },
   "outputs": [
    {
     "data": {
      "image/png": "[encoded data removed]",
      "text/plain": [
       "<matplotlib.figure.Figure at 0x7f5cb78560f0>"
      ]
     },
     "metadata": {},
     "output_type": "display_data"
    },
    {
     "name": "stdout",
     "output_type": "stream",
     "text": [
      "Input Image Shape : (32, 32, 1)  Output Wrap image shape (32, 32, 1)\n"
     ]
    }
   ],
   "source": [
    "# Image Warp\n",
    "def img_warp(img):\n",
    "    w,h,_ = img.shape\n",
    "    \n",
    "    # random scaling coefficients\n",
    "    rndx = np.random.rand(3) - 0.5\n",
    "    rndx *= h * 0.06   # this coefficient determines the degree of warping\n",
    "    rndy = np.random.rand(3) - 0.5\n",
    "    rndy *= w * 0.06\n",
    "    # 3 starting points for transform, 1/4 way from edges\n",
    "    x1 = h/4\n",
    "    x2 = 3*h/4\n",
    "    y1 = w/4\n",
    "    y2 = 3*w/4\n",
    "    pts1 = np.float32([[y1,x1],[y2,x1],[y1,x2]])\n",
    "    pts2 = np.float32([[y1+rndy[0],x1+rndx[0]], [y2+rndy[1],x1+rndx[1]], [y1+rndy[2],x2+rndx[2]]])\n",
    "    M = cv2.getAffineTransform(pts1,pts2)\n",
    "    dest = cv2.warpAffine(img,M,(h,w))\n",
    "    dest = dest[:,:,np.newaxis]\n",
    "    return dest\n",
    "\n",
    "# Plot Image. Original Vs Wrap Image\n",
    "\n",
    "dest_test = img_warp(img_test)\n",
    "img1, vaxis = plt.subplots(1,2, figsize=(10, 3))\n",
    "vaxis[0].imshow(img_test.squeeze(), cmap='gray')\n",
    "vaxis[0].axis('off')\n",
    "vaxis[0].set_title('Original Image')\n",
    "vaxis[1].imshow(dest_test.squeeze(), cmap='gray')\n",
    "vaxis[1].axis('off')\n",
    "vaxis[1].set_title('Warped Image')\n",
    "plt.show()\n",
    "print(\"Input Image Shape :\", img_test.shape, \" Output Wrap image shape\", dest_test.shape)"
   ]
  },
  {
   "cell_type": "code",
   "execution_count": 11,
   "metadata": {
    "collapsed": false,
    "deletable": true,
    "editable": true
   },
   "outputs": [
    {
     "data": {
      "image/png": "[encoded data removed]",
      "text/plain": [
       "<matplotlib.figure.Figure at 0x7f5cb52e00f0>"
      ]
     },
     "metadata": {},
     "output_type": "display_data"
    },
    {
     "name": "stdout",
     "output_type": "stream",
     "text": [
      "Input Image Shape : (32, 32, 1)  Output Brightness image Shape (32, 32, 1)\n"
     ]
    }
   ],
   "source": [
    "# Image Brightness\n",
    "def img_brightness(img):\n",
    "    shifted = img + 1.0   # shift to (0,2) range\n",
    "    img_max_val = max(shifted.flatten())\n",
    "    max_coef = 2.0/img_max_val\n",
    "    min_coef = max_coef - 0.1\n",
    "    coef = np.random.uniform(min_coef, max_coef)\n",
    "    dest = shifted * coef - 1.0\n",
    "    return dest\n",
    "\n",
    "# Plot Image. Original Vs Brignt adjusted Image\n",
    "\n",
    "dest_test = img_brightness(img_test)\n",
    "img1, vaxis = plt.subplots(1,2, figsize=(10, 3))\n",
    "vaxis[0].imshow(img_test.squeeze(), cmap='gray')\n",
    "vaxis[0].axis('off')\n",
    "vaxis[0].set_title('Original Image')\n",
    "vaxis[1].imshow(dest_test.squeeze(), cmap='gray')\n",
    "vaxis[1].axis('off')\n",
    "vaxis[1].set_title('Brightness adjusted Image')\n",
    "plt.show()\n",
    "print(\"Input Image Shape :\", img_test.shape, \" Output Brightness image Shape\", dest_test.shape)"
   ]
  },
  {
   "cell_type": "markdown",
   "metadata": {
    "deletable": true,
    "editable": true
   },
   "source": [
    "### Generate and add Dataset using Image Augumentation."
   ]
  },
  {
   "cell_type": "code",
   "execution_count": 12,
   "metadata": {
    "collapsed": false,
    "deletable": true,
    "editable": true
   },
   "outputs": [
    {
     "name": "stdout",
     "output_type": "stream",
     "text": [
      "Original X, y shapes: (34799, 32, 32, 1) 34799\n",
      "Updated X, y shapes: (46480, 32, 32, 1) (46480,)\n"
     ]
    }
   ],
   "source": [
    "print('Original X, y shapes:', X_train_norm.shape, y_train.shape[0])\n",
    "\n",
    "input_indices = []\n",
    "output_indices = []\n",
    "\n",
    "for class_n in range(n_classes):\n",
    "    class_indices = np.where(y_train == class_n)\n",
    "    n_samples = len(class_indices[0])\n",
    "    if n_samples < 800:\n",
    "        for i in range(800 - n_samples):\n",
    "            input_indices.append(class_indices[0][i%n_samples])\n",
    "            output_indices.append(X_train_norm.shape[0])\n",
    "            img_new = X_train_norm[class_indices[0][i % n_samples]]\n",
    "            img_new = img_translate(img_scaling(img_warp(img_brightness(img_new))))\n",
    "            X_train_norm = np.concatenate((X_train_norm, [img_new]), axis=0)\n",
    "            y_train = np.concatenate((y_train, [class_n]), axis=0)\n",
    "            \n",
    "print('Updated X, y shapes:', X_train_norm.shape, y_train.shape)"
   ]
  },
  {
   "cell_type": "code",
   "execution_count": 13,
   "metadata": {
    "collapsed": false,
    "deletable": true,
    "editable": true
   },
   "outputs": [
    {
     "data": {
      "image/png": "[encoded data removed]",
      "text/plain": [
       "<matplotlib.figure.Figure at 0x7f5cb5285828>"
      ]
     },
     "metadata": {},
     "output_type": "display_data"
    }
   ],
   "source": [
    "# New Histogram of Training Dataset post Augumentation\n",
    "\n",
    "plt.figure(figsize=(15,5))\n",
    "plt.hist(y_train,n_classes,alpha=0.4)\n",
    "#plt.hist(y_valid,n_classes,alpha=0.7)\n",
    "#plt.hist(y_test,n_classes,alpha=0.5)\n",
    "plt.xlabel(\"Traffic sign ID's\")\n",
    "plt.ylabel(\"Count\")\n",
    "plt.title(\"Frequency of Data Points\")\n",
    "plt.show()"
   ]
  },
  {
   "cell_type": "code",
   "execution_count": 14,
   "metadata": {
    "collapsed": false,
    "deletable": true,
    "editable": true
   },
   "outputs": [],
   "source": [
    "# Backup of Dataset for reference & Shuffle\n",
    "X_train_new = X_train_norm\n",
    "y_train_new = y_train\n",
    "X_valid_new = X_valid_norm\n",
    "y_valid_new = y_valid\n",
    "\n",
    "X_train_new, y_train_new = shuffle(X_train_new, y_train_new)"
   ]
  },
  {
   "cell_type": "code",
   "execution_count": 15,
   "metadata": {
    "collapsed": false,
    "deletable": true,
    "editable": true
   },
   "outputs": [
    {
     "name": "stdout",
     "output_type": "stream",
     "text": [
      "Old Training Dataset Size: 46480\n",
      "New Training Dataset Size: 37184\n",
      "20% Splitted Validation Dataset Size: 9296\n",
      "Old Validation Dataset Size: 4410\n",
      "New Validation Dataset Size: 13706\n",
      "X_train_new Shape: (37184, 32, 32, 1)\n",
      "X_valid_new Shape: (13706, 32, 32, 1)\n",
      "Test Dataset Size: 12630\n"
     ]
    }
   ],
   "source": [
    "# Split 20% Validation Dataset and add to Training Dataset\n",
    "from sklearn.model_selection import train_test_split\n",
    "\n",
    "X_train_new, X_valid_part, y_train_new, y_valid_part = train_test_split(X_train_new, y_train_new, test_size=0.20, random_state=42)\n",
    "X_valid_new = np.concatenate((X_valid_new, X_valid_part) , axis=0)\n",
    "y_valid_new = np.concatenate((y_valid_new, y_valid_part) , axis=0)\n",
    "\n",
    "print(\"Old Training Dataset Size:\", len(X_train_norm))\n",
    "print(\"New Training Dataset Size:\", len(X_train_new))\n",
    "print(\"20% Splitted Validation Dataset Size:\", len(X_valid_part))\n",
    "print(\"Old Validation Dataset Size:\", len(X_valid_norm))\n",
    "print(\"New Validation Dataset Size:\", len(X_valid_new))\n",
    "print(\"X_train_new Shape:\", X_train_new.shape)\n",
    "print(\"X_valid_new Shape:\", X_valid_new.shape)\n",
    "print(\"Test Dataset Size:\", len(X_test_norm))"
   ]
  },
  {
   "cell_type": "markdown",
   "metadata": {
    "deletable": true,
    "editable": true
   },
   "source": [
    "### Model Architecture"
   ]
  },
  {
   "cell_type": "code",
   "execution_count": 28,
   "metadata": {
    "collapsed": true,
    "deletable": true,
    "editable": true
   },
   "outputs": [],
   "source": [
    "### Define your architecture here.\n",
    "### Feel free to use as many code cells as needed.\n",
    "import tensorflow as tf\n",
    "\n",
    "EPOCHS = 25\n",
    "BATCH_SIZE = 64"
   ]
  },
  {
   "cell_type": "markdown",
   "metadata": {
    "deletable": true,
    "editable": true
   },
   "source": [
    "### LeNet Architecture"
   ]
  },
  {
   "cell_type": "code",
   "execution_count": 17,
   "metadata": {
    "collapsed": true,
    "deletable": true,
    "editable": true
   },
   "outputs": [],
   "source": [
    "from tensorflow.contrib.layers import flatten\n",
    "\n",
    "def LeNet(x):    \n",
    "    # Hyperparameters\n",
    "    mu = 0\n",
    "    sigma = 0.1\n",
    "    \n",
    "    # Layer 1: Convolutional. Input = 32x32x1. Output = 28x28x6.\n",
    "    conv1_W = tf.Variable(tf.truncated_normal(shape=(5, 5, 1, 6), mean = mu, stddev = sigma))\n",
    "    conv1_b = tf.Variable(tf.zeros(6))\n",
    "    conv1   = tf.nn.conv2d(x, conv1_W, strides=[1, 1, 1, 1], padding='VALID') + conv1_b\n",
    "\n",
    "    # Activation.\n",
    "    conv1 = tf.nn.relu(conv1)\n",
    "\n",
    "    # Pooling. Input = 28x28x6. Output = 14x14x6.\n",
    "    conv1 = tf.nn.max_pool(conv1, ksize=[1, 2, 2, 1], strides=[1, 2, 2, 1], padding='VALID')\n",
    "\n",
    "    # Layer 2: Convolutional. Output = 10x10x16.\n",
    "    conv2_W = tf.Variable(tf.truncated_normal(shape=(5, 5, 6, 16), mean = mu, stddev = sigma))\n",
    "    conv2_b = tf.Variable(tf.zeros(16))\n",
    "    conv2   = tf.nn.conv2d(conv1, conv2_W, strides=[1, 1, 1, 1], padding='VALID') + conv2_b\n",
    "    \n",
    "    # Activation.\n",
    "    conv2 = tf.nn.relu(conv2)\n",
    "\n",
    "    # Pooling. Input = 10x10x16. Output = 5x5x16.\n",
    "    conv2 = tf.nn.max_pool(conv2, ksize=[1, 2, 2, 1], strides=[1, 2, 2, 1], padding='VALID')\n",
    "\n",
    "    # Flatten. Input = 5x5x16. Output = 400.\n",
    "    fc0   = flatten(conv2)\n",
    "    \n",
    "    # Layer 3: Fully Connected. Input = 400. Output = 120.\n",
    "    fc1_W = tf.Variable(tf.truncated_normal(shape=(400, 120), mean = mu, stddev = sigma))\n",
    "    fc1_b = tf.Variable(tf.zeros(120))\n",
    "    fc1   = tf.matmul(fc0, fc1_W) + fc1_b\n",
    "    \n",
    "    # Activation.\n",
    "    fc1    = tf.nn.relu(fc1)\n",
    "\n",
    "    # Layer 4: Fully Connected. Input = 120. Output = 84.\n",
    "    fc2_W  = tf.Variable(tf.truncated_normal(shape=(120, 84), mean = mu, stddev = sigma))\n",
    "    fc2_b  = tf.Variable(tf.zeros(84))\n",
    "    fc2    = tf.matmul(fc1, fc2_W) + fc2_b\n",
    "    \n",
    "    # Activation.\n",
    "    fc2    = tf.nn.relu(fc2)\n",
    "\n",
    "    # Layer 5: Fully Connected. Input = 84. Output = 43.\n",
    "    fc3_W  = tf.Variable(tf.truncated_normal(shape=(84, 43), mean = mu, stddev = sigma))\n",
    "    fc3_b  = tf.Variable(tf.zeros(43))\n",
    "    logits = tf.matmul(fc2, fc3_W) + fc3_b\n",
    "    \n",
    "    return logits"
   ]
  },
  {
   "cell_type": "markdown",
   "metadata": {
    "deletable": true,
    "editable": true
   },
   "source": [
    "### Features and Labels"
   ]
  },
  {
   "cell_type": "code",
   "execution_count": 18,
   "metadata": {
    "collapsed": true,
    "deletable": true,
    "editable": true
   },
   "outputs": [],
   "source": [
    "x = tf.placeholder(tf.float32, (None, 32, 32, 1))\n",
    "y = tf.placeholder(tf.int32, (None))\n",
    "one_hot_y = tf.one_hot(y, 43)"
   ]
  },
  {
   "cell_type": "markdown",
   "metadata": {
    "deletable": true,
    "editable": true
   },
   "source": [
    "### Train, Validate and Test the Model"
   ]
  },
  {
   "cell_type": "markdown",
   "metadata": {
    "deletable": true,
    "editable": true
   },
   "source": [
    "A validation set can be used to assess how well the model is performing. A low accuracy on the training and validation\n",
    "sets imply underfitting. A high accuracy on the training set but low accuracy on the validation set implies overfitting."
   ]
  },
  {
   "cell_type": "markdown",
   "metadata": {
    "deletable": true,
    "editable": true
   },
   "source": [
    "### Training Pipeline"
   ]
  },
  {
   "cell_type": "code",
   "execution_count": 19,
   "metadata": {
    "collapsed": true,
    "deletable": true,
    "editable": true
   },
   "outputs": [],
   "source": [
    "rate = 0.001\n",
    "\n",
    "logits = LeNet(x)\n",
    "cross_entropy = tf.nn.softmax_cross_entropy_with_logits(logits, one_hot_y)\n",
    "loss_operation = tf.reduce_mean(cross_entropy)\n",
    "optimizer = tf.train.AdamOptimizer(learning_rate = rate)\n",
    "training_operation = optimizer.minimize(loss_operation)"
   ]
  },
  {
   "cell_type": "markdown",
   "metadata": {
    "deletable": true,
    "editable": true
   },
   "source": [
    "### Model Evaluation"
   ]
  },
  {
   "cell_type": "code",
   "execution_count": 20,
   "metadata": {
    "collapsed": true,
    "deletable": true,
    "editable": true
   },
   "outputs": [],
   "source": [
    "correct_prediction = tf.equal(tf.argmax(logits, 1), tf.argmax(one_hot_y, 1))\n",
    "accuracy_operation = tf.reduce_mean(tf.cast(correct_prediction, tf.float32))\n",
    "saver = tf.train.Saver()\n",
    "\n",
    "def evaluate(X_data, y_data):\n",
    "    num_examples = len(X_data)\n",
    "    total_accuracy = 0\n",
    "    sess = tf.get_default_session()\n",
    "    for offset in range(0, num_examples, BATCH_SIZE):\n",
    "        batch_x, batch_y = X_data[offset:offset+BATCH_SIZE], y_data[offset:offset+BATCH_SIZE]\n",
    "        accuracy = sess.run(accuracy_operation, feed_dict={x: batch_x, y: batch_y})\n",
    "        total_accuracy += (accuracy * len(batch_x))\n",
    "    return total_accuracy / num_examples"
   ]
  },
  {
   "cell_type": "markdown",
   "metadata": {
    "deletable": true,
    "editable": true
   },
   "source": [
    "### Train the Model"
   ]
  },
  {
   "cell_type": "code",
   "execution_count": 21,
   "metadata": {
    "collapsed": false,
    "deletable": true,
    "editable": true
   },
   "outputs": [
    {
     "name": "stdout",
     "output_type": "stream",
     "text": [
      "Training...\n",
      "\n",
      "EPOCH 1 ...\n",
      "Validation Accuracy = 0.768\n",
      "\n",
      "EPOCH 2 ...\n",
      "Validation Accuracy = 0.879\n",
      "\n",
      "EPOCH 3 ...\n",
      "Validation Accuracy = 0.903\n",
      "\n",
      "EPOCH 4 ...\n",
      "Validation Accuracy = 0.931\n",
      "\n",
      "EPOCH 5 ...\n",
      "Validation Accuracy = 0.938\n",
      "\n",
      "EPOCH 6 ...\n",
      "Validation Accuracy = 0.949\n",
      "\n",
      "EPOCH 7 ...\n",
      "Validation Accuracy = 0.952\n",
      "\n",
      "EPOCH 8 ...\n",
      "Validation Accuracy = 0.937\n",
      "\n",
      "EPOCH 9 ...\n",
      "Validation Accuracy = 0.955\n",
      "\n",
      "EPOCH 10 ...\n",
      "Validation Accuracy = 0.952\n",
      "\n",
      "EPOCH 11 ...\n",
      "Validation Accuracy = 0.955\n",
      "\n",
      "EPOCH 12 ...\n",
      "Validation Accuracy = 0.957\n",
      "\n",
      "EPOCH 13 ...\n",
      "Validation Accuracy = 0.957\n",
      "\n",
      "EPOCH 14 ...\n",
      "Validation Accuracy = 0.954\n",
      "\n",
      "EPOCH 15 ...\n",
      "Validation Accuracy = 0.961\n",
      "\n",
      "EPOCH 16 ...\n",
      "Validation Accuracy = 0.963\n",
      "\n",
      "EPOCH 17 ...\n",
      "Validation Accuracy = 0.961\n",
      "\n",
      "EPOCH 18 ...\n",
      "Validation Accuracy = 0.966\n",
      "\n",
      "EPOCH 19 ...\n",
      "Validation Accuracy = 0.958\n",
      "\n",
      "EPOCH 20 ...\n",
      "Validation Accuracy = 0.959\n",
      "\n",
      "EPOCH 21 ...\n",
      "Validation Accuracy = 0.957\n",
      "\n",
      "EPOCH 22 ...\n",
      "Validation Accuracy = 0.958\n",
      "\n",
      "EPOCH 23 ...\n",
      "Validation Accuracy = 0.962\n",
      "\n",
      "EPOCH 24 ...\n",
      "Validation Accuracy = 0.958\n",
      "\n",
      "EPOCH 25 ...\n",
      "Validation Accuracy = 0.968\n",
      "\n",
      "Model saved\n"
     ]
    }
   ],
   "source": [
    "### Train your model here.\n",
    "### Calculate and report the accuracy on the training and validation set.\n",
    "### Once a final model architecture is selected, \n",
    "### the accuracy on the test set should be calculated and reported as well.\n",
    "### Feel free to use as many code cells as needed.\n",
    "\n",
    "with tf.Session() as sess:\n",
    "    sess.run(tf.global_variables_initializer())\n",
    "    num_examples = len(X_train_new)\n",
    "    \n",
    "    print(\"Training...\")\n",
    "    print()\n",
    "    for i in range(EPOCHS):\n",
    "        X_train_new, y_train_new = shuffle(X_train_new, y_train_new)\n",
    "        for offset in range(0, num_examples, BATCH_SIZE):\n",
    "            end = offset + BATCH_SIZE\n",
    "            batch_x, batch_y = X_train_new[offset:end], y_train_new[offset:end]\n",
    "            sess.run(training_operation, feed_dict={x: batch_x, y: batch_y})\n",
    "            \n",
    "        validation_accuracy = evaluate(X_valid_new, y_valid_new)\n",
    "        print(\"EPOCH {} ...\".format(i+1))\n",
    "        print(\"Validation Accuracy = {:.3f}\".format(validation_accuracy))\n",
    "        print()\n",
    "    \n",
    "    saver.save(sess, './traffic_sign')\n",
    "    print(\"Model saved\")"
   ]
  },
  {
   "cell_type": "markdown",
   "metadata": {
    "deletable": true,
    "editable": true
   },
   "source": [
    "### Evaluate the Model"
   ]
  },
  {
   "cell_type": "code",
   "execution_count": 22,
   "metadata": {
    "collapsed": false,
    "deletable": true,
    "editable": true
   },
   "outputs": [
    {
     "name": "stdout",
     "output_type": "stream",
     "text": [
      "Test Accuracy = 0.925\n",
      "Validation Accuracy = 0.968\n",
      "Train Accuracy = 0.998\n"
     ]
    }
   ],
   "source": [
    "with tf.Session() as sess:\n",
    "    saver.restore(sess, tf.train.latest_checkpoint('.'))\n",
    "\n",
    "    test_accuracy = evaluate(X_test_norm, y_test)\n",
    "    print(\"Test Accuracy = {:.3f}\".format(test_accuracy))\n",
    "    \n",
    "with tf.Session() as sess:\n",
    "    saver.restore(sess, tf.train.latest_checkpoint('.'))\n",
    "\n",
    "    test_accuracy = evaluate(X_valid_new, y_valid_new)\n",
    "    print(\"Validation Accuracy = {:.3f}\".format(test_accuracy))\n",
    "    \n",
    "with tf.Session() as sess:\n",
    "    saver.restore(sess, tf.train.latest_checkpoint('.'))\n",
    "\n",
    "    test_accuracy = evaluate(X_train_new, y_train_new)\n",
    "    print(\"Train Accuracy = {:.3f}\".format(test_accuracy))"
   ]
  },
  {
   "cell_type": "markdown",
   "metadata": {
    "deletable": true,
    "editable": true
   },
   "source": [
    "---\n",
    "\n",
    "## Step 3: Test a Model on New Images\n",
    "\n",
    "To give yourself more insight into how your model is working, download at least five pictures of German traffic signs from the web and use your model to predict the traffic sign type.\n",
    "\n",
    "You may find `signnames.csv` useful as it contains mappings from the class id (integer) to the actual sign name."
   ]
  },
  {
   "cell_type": "markdown",
   "metadata": {
    "deletable": true,
    "editable": true
   },
   "source": [
    "### Load and Output the Images"
   ]
  },
  {
   "cell_type": "code",
   "execution_count": 23,
   "metadata": {
    "collapsed": false,
    "deletable": true,
    "editable": true
   },
   "outputs": [
    {
     "name": "stdout",
     "output_type": "stream",
     "text": [
      "Image:Turn_Left_Ahead_No34.png\n"
     ]
    },
    {
     "data": {
      "image/png": "[encoded data removed]",
      "text/plain": [
       "<IPython.core.display.Image object>"
      ]
     },
     "metadata": {},
     "output_type": "display_data"
    },
    {
     "name": "stdout",
     "output_type": "stream",
     "text": [
      "Image:Speed_Limit_60kmph_No3.jpg\n"
     ]
    },
    {
     "data": {
      "image/jpeg": "[encoded data removed]",
      "text/plain": [
       "<IPython.core.display.Image object>"
      ]
     },
     "metadata": {},
     "output_type": "display_data"
    },
    {
     "name": "stdout",
     "output_type": "stream",
     "text": [
      "Image:No_Entry_No17.jpg\n"
     ]
    },
    {
     "data": {
      "image/jpeg": "[encoded data removed]",
      "text/plain": [
       "<IPython.core.display.Image object>"
      ]
     },
     "metadata": {},
     "output_type": "display_data"
    },
    {
     "name": "stdout",
     "output_type": "stream",
     "text": [
      "Image:Roadwork_No25.jpg\n"
     ]
    },
    {
     "data": {
      "image/jpeg": "[encoded data removed]",
      "text/plain": [
       "<IPython.core.display.Image object>"
      ]
     },
     "metadata": {},
     "output_type": "display_data"
    },
    {
     "name": "stdout",
     "output_type": "stream",
     "text": [
      "Image:Keep_Right_No38.png\n"
     ]
    },
    {
     "data": {
      "image/png": "[encoded data removed]",
      "text/plain": [
       "<IPython.core.display.Image object>"
      ]
     },
     "metadata": {},
     "output_type": "display_data"
    },
    {
     "name": "stdout",
     "output_type": "stream",
     "text": [
      "Image:Speed_Limit_30kmph_No1.png\n"
     ]
    },
    {
     "data": {
      "image/png": "[encoded data removed]",
      "text/plain": [
       "<IPython.core.display.Image object>"
      ]
     },
     "metadata": {},
     "output_type": "display_data"
    },
    {
     "name": "stdout",
     "output_type": "stream",
     "text": [
      "Image:Pedestrians_No27.jpg\n"
     ]
    },
    {
     "data": {
      "image/jpeg": "[encoded data removed]",
      "text/plain": [
       "<IPython.core.display.Image object>"
      ]
     },
     "metadata": {},
     "output_type": "display_data"
    },
    {
     "name": "stdout",
     "output_type": "stream",
     "text": [
      "Image:General_Caution_No18.png\n"
     ]
    },
    {
     "data": {
      "image/png": "[encoded data removed]",
      "text/plain": [
       "<IPython.core.display.Image object>"
      ]
     },
     "metadata": {},
     "output_type": "display_data"
    }
   ],
   "source": [
    "### Load the images and plot them here.\n",
    "### Feel free to use as many code cells as needed.\n",
    "import os\n",
    "from IPython.display import Image,display\n",
    "\n",
    "test_folder = \"./test_images\"\n",
    "\n",
    "for test_img in os.listdir(test_folder):\n",
    "    print(\"Image:%s\"%(test_img))\n",
    "    display(Image(filename=test_folder+'/'+test_img))"
   ]
  },
  {
   "cell_type": "markdown",
   "metadata": {
    "deletable": true,
    "editable": true
   },
   "source": [
    "### Predict the Sign Type for Each Image"
   ]
  },
  {
   "cell_type": "code",
   "execution_count": 24,
   "metadata": {
    "collapsed": false,
    "deletable": true,
    "editable": true
   },
   "outputs": [
    {
     "name": "stdout",
     "output_type": "stream",
     "text": [
      "test_image Shape: (8, 32, 32, 3)\n",
      "Normalized test_image Shape: (8, 32, 32, 1)\n",
      "\n",
      "Image 1:(Turn_Left_Ahead_No34.png)\n",
      "Actual Image Sign: 34\n",
      "Predicted Image Sign: [34]\n",
      "\n",
      "Image 2:(Speed_Limit_60kmph_No3.jpg)\n",
      "Actual Image Sign: 3\n",
      "Predicted Image Sign: [37]\n",
      "\n",
      "Image 3:(No_Entry_No17.jpg)\n",
      "Actual Image Sign: 17\n",
      "Predicted Image Sign: [14]\n",
      "\n",
      "Image 4:(Roadwork_No25.jpg)\n",
      "Actual Image Sign: 25\n",
      "Predicted Image Sign: [21]\n",
      "\n",
      "Image 5:(Keep_Right_No38.png)\n",
      "Actual Image Sign: 38\n",
      "Predicted Image Sign: [38]\n",
      "\n",
      "Image 6:(Speed_Limit_30kmph_No1.png)\n",
      "Actual Image Sign: 1\n",
      "Predicted Image Sign: [2]\n",
      "\n",
      "Image 7:(Pedestrians_No27.jpg)\n",
      "Actual Image Sign: 27\n",
      "Predicted Image Sign: [27]\n",
      "\n",
      "Image 8:(General_Caution_No18.png)\n",
      "Actual Image Sign: 18\n",
      "Predicted Image Sign: [18]\n",
      "\n"
     ]
    }
   ],
   "source": [
    "### Run the predictions here and use the model to output the prediction for each image.\n",
    "### Make sure to pre-process the images with the same pre-processing pipeline used earlier.\n",
    "### Feel free to use as many code cells as needed.\n",
    "import glob\n",
    "import matplotlib.image as mpimg\n",
    "\n",
    "test_image = []\n",
    "\n",
    "for i, img in enumerate(glob.glob('./test_images/*')):\n",
    "    image = cv2.imread(img)\n",
    "    test_image.append(image)\n",
    "\n",
    "test_image = np.asarray(test_image)\n",
    "\n",
    "test_image_norm = []\n",
    "for i in range(len(test_image)):\n",
    "    img = grayscale_normalize(test_image[i])\n",
    "    test_image_norm.append(img)\n",
    "\n",
    "test_image_norm = np.array(test_image_norm)\n",
    "test_image_norm = np.expand_dims(test_image_norm, axis=3)\n",
    "\n",
    "print(\"test_image Shape:\", test_image.shape)\n",
    "print(\"Normalized test_image Shape:\", test_image_norm.shape)\n",
    "print()\n",
    "\n",
    "test_images = ['Turn_Left_Ahead_No34.png', 'Speed_Limit_60kmph_No3.jpg', 'No_Entry_No17.jpg', 'Roadwork_No25.jpg', 'Keep_Right_No38.png', 'Speed_Limit_30kmph_No1.png', 'Pedestrians_No27.jpg', 'General_Caution_No18.png']\n",
    "labels = [34, 3, 17, 25, 38, 1, 27, 18]\n",
    "\n",
    "with tf.Session() as sess:\n",
    "    saver.restore(sess, tf.train.latest_checkpoint('.'))\n",
    "    my_accuracy = evaluate(test_image_norm, labels)\n",
    "    output = sess.run(tf.nn.top_k(tf.nn.softmax(logits), 1),feed_dict={x: test_image_norm})\n",
    "    \n",
    "    for i in range(len(test_images)):\n",
    "        print(\"Image {0}:({1})\".format(i+1, test_images[i]))\n",
    "        print(\"Actual Image Sign: {0}\".format(labels[i]))\n",
    "        print(\"Predicted Image Sign: {0}\".format(output[1][i]))\n",
    "        print()"
   ]
  },
  {
   "cell_type": "markdown",
   "metadata": {
    "deletable": true,
    "editable": true
   },
   "source": [
    "### Analyze Performance"
   ]
  },
  {
   "cell_type": "code",
   "execution_count": 25,
   "metadata": {
    "collapsed": false,
    "deletable": true,
    "editable": true
   },
   "outputs": [
    {
     "name": "stdout",
     "output_type": "stream",
     "text": [
      "New Test Set Accuracy = 50.000%\n"
     ]
    }
   ],
   "source": [
    "### Calculate the accuracy for these 5 new images. \n",
    "### For example, if the model predicted 1 out of 5 signs correctly, it's 20% accurate on these new images.\n",
    "\n",
    "with tf.Session() as sess:\n",
    "    saver.restore(sess, tf.train.latest_checkpoint('.'))\n",
    "    my_accuracy = evaluate(test_image_norm, labels)\n",
    "    print(\"New Test Set Accuracy = {:.3f}%\".format(my_accuracy*100))"
   ]
  },
  {
   "cell_type": "markdown",
   "metadata": {
    "deletable": true,
    "editable": true
   },
   "source": [
    "### Output Top 5 Softmax Probabilities For Each Image Found on the Web"
   ]
  },
  {
   "cell_type": "markdown",
   "metadata": {
    "deletable": true,
    "editable": true
   },
   "source": [
    "For each of the new images, print out the model's softmax probabilities to show the **certainty** of the model's predictions (limit the output to the top 5 probabilities for each image). [`tf.nn.top_k`](https://www.tensorflow.org/versions/r0.12/api_docs/python/nn.html#top_k) could prove helpful here. \n",
    "\n",
    "The example below demonstrates how tf.nn.top_k can be used to find the top k predictions for each image.\n",
    "\n",
    "`tf.nn.top_k` will return the values and indices (class ids) of the top k predictions. So if k=3, for each sign, it'll return the 3 largest probabilities (out of a possible 43) and the correspoding class ids.\n",
    "\n",
    "Take this numpy array as an example. The values in the array represent predictions. The array contains softmax probabilities for five candidate images with six possible classes. `tk.nn.top_k` is used to choose the three classes with the highest probability:\n",
    "\n",
    "```\n",
    "# (5, 6) array\n",
    "a = np.array([[ 0.24879643,  0.07032244,  0.12641572,  0.34763842,  0.07893497,\n",
    "         0.12789202],\n",
    "       [ 0.28086119,  0.27569815,  0.08594638,  0.0178669 ,  0.18063401,\n",
    "         0.15899337],\n",
    "       [ 0.26076848,  0.23664738,  0.08020603,  0.07001922,  0.1134371 ,\n",
    "         0.23892179],\n",
    "       [ 0.11943333,  0.29198961,  0.02605103,  0.26234032,  0.1351348 ,\n",
    "         0.16505091],\n",
    "       [ 0.09561176,  0.34396535,  0.0643941 ,  0.16240774,  0.24206137,\n",
    "         0.09155967]])\n",
    "```\n",
    "\n",
    "Running it through `sess.run(tf.nn.top_k(tf.constant(a), k=3))` produces:\n",
    "\n",
    "```\n",
    "TopKV2(values=array([[ 0.34763842,  0.24879643,  0.12789202],\n",
    "       [ 0.28086119,  0.27569815,  0.18063401],\n",
    "       [ 0.26076848,  0.23892179,  0.23664738],\n",
    "       [ 0.29198961,  0.26234032,  0.16505091],\n",
    "       [ 0.34396535,  0.24206137,  0.16240774]]), indices=array([[3, 0, 5],\n",
    "       [0, 1, 4],\n",
    "       [0, 5, 1],\n",
    "       [1, 3, 5],\n",
    "       [1, 4, 3]], dtype=int32))\n",
    "```\n",
    "\n",
    "Looking just at the first row we get `[ 0.34763842,  0.24879643,  0.12789202]`, you can confirm these are the 3 largest probabilities in `a`. You'll also notice `[3, 0, 5]` are the corresponding indices."
   ]
  },
  {
   "cell_type": "code",
   "execution_count": 26,
   "metadata": {
    "collapsed": false,
    "deletable": true,
    "editable": true
   },
   "outputs": [
    {
     "name": "stdout",
     "output_type": "stream",
     "text": [
      "Image 1:(Turn_Left_Ahead_No34.png)\n",
      "Top 5 probabilites: [  1.00000000e+00   5.61523095e-08   4.67050221e-09   2.13834839e-09\n",
      "   6.69664213e-10]\n",
      "Top 5 indexes: [34 13 36 38 12]\n",
      "\n",
      "Image 2:(Speed_Limit_60kmph_No3.jpg)\n",
      "Top 5 probabilites: [  9.11563575e-01   7.76914805e-02   1.06742140e-02   7.07617364e-05\n",
      "   1.64572072e-08]\n",
      "Top 5 indexes: [37  0 40 16 23]\n",
      "\n",
      "Image 3:(No_Entry_No17.jpg)\n",
      "Top 5 probabilites: [ 0.79552895  0.17441685  0.02778658  0.00127097  0.00095512]\n",
      "Top 5 indexes: [14 17  9 33  0]\n",
      "\n",
      "Image 4:(Roadwork_No25.jpg)\n",
      "Top 5 probabilites: [  9.96907651e-01   3.08422279e-03   6.11450832e-06   2.04721732e-06\n",
      "   1.35696716e-08]\n",
      "Top 5 indexes: [21 24 25 30 29]\n",
      "\n",
      "Image 5:(Keep_Right_No38.png)\n",
      "Top 5 probabilites: [  1.00000000e+00   1.26831362e-26   1.05950827e-36   7.02545133e-37\n",
      "   0.00000000e+00]\n",
      "Top 5 indexes: [38 23 34  0  1]\n",
      "\n",
      "Image 6:(Speed_Limit_30kmph_No1.png)\n",
      "Top 5 probabilites: [  9.65679109e-01   3.43208648e-02   1.64087968e-13   2.52415860e-21\n",
      "   2.91069632e-25]\n",
      "Top 5 indexes: [ 2  1  5 40  0]\n",
      "\n",
      "Image 7:(Pedestrians_No27.jpg)\n",
      "Top 5 probabilites: [  9.76179361e-01   2.38133967e-02   7.24606116e-06   1.80817427e-11\n",
      "   7.50679053e-15]\n",
      "Top 5 indexes: [27 18 26 24 11]\n",
      "\n",
      "Image 8:(General_Caution_No18.png)\n",
      "Top 5 probabilites: [  1.00000000e+00   1.90486326e-13   3.78870451e-14   1.51793333e-17\n",
      "   2.12188508e-21]\n",
      "Top 5 indexes: [18 26 27 24 25]\n",
      "\n"
     ]
    }
   ],
   "source": [
    "### Print out the top five softmax probabilities for the predictions on the German traffic sign images found on the web. \n",
    "### Feel free to use as many code cells as needed.\n",
    "\n",
    "with tf.Session() as sess:\n",
    "    saver.restore(sess, tf.train.latest_checkpoint('.'))\n",
    "    output = sess.run(tf.nn.top_k(tf.nn.softmax(logits), 5),feed_dict={x: test_image_norm})\n",
    "    \n",
    "    for i in range(len(output[0])):\n",
    "        print(\"Image {0}:({1})\".format(i+1, test_images[i]))\n",
    "        print(\"Top 5 probabilites: {0}\".format(output[0][i]))\n",
    "        print(\"Top 5 indexes: {0}\".format(output[1][i]))\n",
    "        print()"
   ]
  },
  {
   "cell_type": "markdown",
   "metadata": {
    "deletable": true,
    "editable": true
   },
   "source": [
    "---\n",
    "\n",
    "## Step 4: Visualize the Neural Network's State with Test Images\n",
    "\n",
    " This Section is not required to complete but acts as an additional excersise for understaning the output of a neural network's weights. While neural networks can be a great learning device they are often referred to as a black box. We can understand what the weights of a neural network look like better by plotting their feature maps. After successfully training your neural network you can see what it's feature maps look like by plotting the output of the network's weight layers in response to a test stimuli image. From these plotted feature maps, it's possible to see what characteristics of an image the network finds interesting. For a sign, maybe the inner network feature maps react with high activation to the sign's boundary outline or to the contrast in the sign's painted symbol.\n",
    "\n",
    " Provided for you below is the function code that allows you to get the visualization output of any tensorflow weight layer you want. The inputs to the function should be a stimuli image, one used during training or a new one you provided, and then the tensorflow variable name that represents the layer's state during the training process, for instance if you wanted to see what the [LeNet lab's](https://classroom.udacity.com/nanodegrees/nd013/parts/fbf77062-5703-404e-b60c-95b78b2f3f9e/modules/6df7ae49-c61c-4bb2-a23e-6527e69209ec/lessons/601ae704-1035-4287-8b11-e2c2716217ad/concepts/d4aca031-508f-4e0b-b493-e7b706120f81) feature maps looked like for it's second convolutional layer you could enter conv2 as the tf_activation variable.\n",
    "\n",
    "For an example of what feature map outputs look like, check out NVIDIA's results in their paper [End-to-End Deep Learning for Self-Driving Cars](https://devblogs.nvidia.com/parallelforall/deep-learning-self-driving-cars/) in the section Visualization of internal CNN State. NVIDIA was able to show that their network's inner weights had high activations to road boundary lines by comparing feature maps from an image with a clear path to one without. Try experimenting with a similar test to show that your trained network's weights are looking for interesting features, whether it's looking at differences in feature maps from images with or without a sign, or even what feature maps look like in a trained network vs a completely untrained one on the same sign image.\n",
    "\n",
    "<figure>\n",
    " <img src=\"visualize_cnn.png\" width=\"380\" alt=\"Combined Image\" />\n",
    " <figcaption>\n",
    " <p></p> \n",
    " <p style=\"text-align: center;\"> Your output should look something like this (above)</p> \n",
    " </figcaption>\n",
    "</figure>\n",
    " <p></p> \n"
   ]
  },
  {
   "cell_type": "code",
   "execution_count": 27,
   "metadata": {
    "collapsed": true,
    "deletable": true,
    "editable": true
   },
   "outputs": [],
   "source": [
    "### Visualize your network's feature maps here.\n",
    "### Feel free to use as many code cells as needed.\n",
    "\n",
    "# image_input: the test image being fed into the network to produce the feature maps\n",
    "# tf_activation: should be a tf variable name used during your training procedure that represents the calculated state of a specific weight layer\n",
    "# activation_min/max: can be used to view the activation contrast in more detail, by default matplot sets min and max to the actual min and max values of the output\n",
    "# plt_num: used to plot out multiple different weight feature map sets on the same block, just extend the plt number for each new feature map entry\n",
    "\n",
    "def outputFeatureMap(image_input, tf_activation, activation_min=-1, activation_max=-1 ,plt_num=1):\n",
    "    # Here make sure to preprocess your image_input in a way your network expects\n",
    "    # with size, normalization, ect if needed\n",
    "    # image_input =\n",
    "    # Note: x should be the same name as your network's tensorflow data placeholder variable\n",
    "    # If you get an error tf_activation is not defined it maybe having trouble accessing the variable from inside a function\n",
    "    activation = tf_activation.eval(session=sess,feed_dict={x : image_input})\n",
    "    featuremaps = activation.shape[3]\n",
    "    plt.figure(plt_num, figsize=(15,15))\n",
    "    for featuremap in range(featuremaps):\n",
    "        plt.subplot(6,8, featuremap+1) # sets the number of feature maps to show on each row and column\n",
    "        plt.title('FeatureMap ' + str(featuremap)) # displays the feature map number\n",
    "        if activation_min != -1 & activation_max != -1:\n",
    "            plt.imshow(activation[0,:,:, featuremap], interpolation=\"nearest\", vmin =activation_min, vmax=activation_max, cmap=\"gray\")\n",
    "        elif activation_max != -1:\n",
    "            plt.imshow(activation[0,:,:, featuremap], interpolation=\"nearest\", vmax=activation_max, cmap=\"gray\")\n",
    "        elif activation_min !=-1:\n",
    "            plt.imshow(activation[0,:,:, featuremap], interpolation=\"nearest\", vmin=activation_min, cmap=\"gray\")\n",
    "        else:\n",
    "            plt.imshow(activation[0,:,:, featuremap], interpolation=\"nearest\", cmap=\"gray\")"
   ]
  },
  {
   "cell_type": "markdown",
   "metadata": {
    "deletable": true,
    "editable": true
   },
   "source": [
    "### Question 9\n",
    "\n",
    "Discuss how you used the visual output of your trained network's feature maps to show that it had learned to look for interesting characteristics in traffic sign images\n"
   ]
  },
  {
   "cell_type": "markdown",
   "metadata": {
    "deletable": true,
    "editable": true
   },
   "source": [
    "**Answer:**"
   ]
  },
  {
   "cell_type": "markdown",
   "metadata": {
    "deletable": true,
    "editable": true
   },
   "source": [
    "> **Note**: Once you have completed all of the code implementations and successfully answered each question above, you may finalize your work by exporting the iPython Notebook as an HTML document. You can do this by using the menu above and navigating to  \\n\",\n",
    "    \"**File -> Download as -> HTML (.html)**. Include the finished document along with this notebook as your submission."
   ]
  },
  {
   "cell_type": "markdown",
   "metadata": {
    "deletable": true,
    "editable": true
   },
   "source": [
    "### Project Writeup\n",
    "\n",
    "Once you have completed the code implementation, document your results in a project writeup using this [template](https://github.com/udacity/CarND-Traffic-Sign-Classifier-Project/blob/master/writeup_template.md) as a guide. The writeup can be in a markdown or pdf file. "
   ]
  }
 ],
 "metadata": {
  "anaconda-cloud": {},
  "kernelspec": {
   "display_name": "Python 3",
   "language": "python",
   "name": "python3"
  },
  "language_info": {
   "codemirror_mode": {
    "name": "ipython",
    "version": 3
   },
   "file_extension": ".py",
   "mimetype": "text/x-python",
   "name": "python",
   "nbconvert_exporter": "python",
   "pygments_lexer": "ipython3",
   "version": "3.5.2"
  },
  "widgets": {
   "state": {},
   "version": "1.1.2"
  }
 },
 "nbformat": 4,
 "nbformat_minor": 1
}
